{
  "nbformat": 4,
  "nbformat_minor": 0,
  "metadata": {
    "colab": {
      "name": "Copy_EM_example.ipynb\"",
      "provenance": [],
      "collapsed_sections": [],
      "mount_file_id": "1IEL7G2WUpSFasG4qy_J_WxOLE9I0TCGA",
      "authorship_tag": "ABX9TyMt+m+Y/qFwvsh3b9NC0AIH",
      "include_colab_link": true
    },
    "kernelspec": {
      "name": "python3",
      "display_name": "Python 3"
    },
    "language_info": {
      "name": "python"
    }
  },
  "cells": [
    {
      "cell_type": "markdown",
      "metadata": {
        "id": "view-in-github",
        "colab_type": "text"
      },
      "source": [
        "<a href=\"https://colab.research.google.com/github/AVBrovkin/rep_test1/blob/branch1/br1/Copy_EM_example_ipynb%22.ipynb\" target=\"_parent\"><img src=\"https://colab.research.google.com/assets/colab-badge.svg\" alt=\"Open In Colab\"/></a>"
      ]
    },
    {
      "cell_type": "code",
      "metadata": {
        "id": "Giu56T04yGTz"
      },
      "source": [
        ""
      ],
      "execution_count": null,
      "outputs": []
    },
    {
      "cell_type": "code",
      "metadata": {
        "id": "XBD1FU8hyFXI"
      },
      "source": [
        ""
      ],
      "execution_count": null,
      "outputs": []
    },
    {
      "cell_type": "code",
      "metadata": {
        "id": "62Ca2xCwh5n6"
      },
      "source": [
        "import math as math\n",
        "\n",
        "import pandas as pd\n",
        "import numpy as np\n",
        "import matplotlib.pyplot as plt\n",
        "%matplotlib inline\n",
        "# import seaborn as sns\n",
        "import os\n",
        "import datetime\n",
        "\n",
        "pd.set_option('display.max_columns', 150)\n",
        "pd.set_option('display.max_rows', 150)\n",
        "pd.set_option('max_colwidth', 100)\n",
        "# %config InlineBackend.figure_format='png'\n",
        "%config InlineBackend.figure_format='retina'\n",
        "\n",
        "import warnings\n",
        "warnings.simplefilter('ignore')"
      ],
      "execution_count": null,
      "outputs": []
    },
    {
      "cell_type": "code",
      "metadata": {
        "id": "cu3bPufqh5gn"
      },
      "source": [
        "from sklearn.metrics import accuracy_score\n",
        "from sklearn.mixture import GaussianMixture as GMM"
      ],
      "execution_count": null,
      "outputs": []
    },
    {
      "cell_type": "code",
      "metadata": {
        "id": "t1dteQEEiRHz"
      },
      "source": [
        "N1 =6000\n",
        "N2 = 4000\n",
        "N = N1 + N2\n",
        "\n",
        "X =np.zeros((N,1))"
      ],
      "execution_count": null,
      "outputs": []
    },
    {
      "cell_type": "code",
      "metadata": {
        "id": "37wONQX_iRQo"
      },
      "source": [
        "X[:N1,0] = np.random.normal(loc=4, scale=1, size=N1)\n",
        "X[N1:N,0] = np.random.normal(loc=6, scale=2, size=N2)\n",
        "\n",
        "y = np.zeros((N))\n",
        "y[:N1] = np.array((1))\n",
        "y[N1:N] = np.array((2))"
      ],
      "execution_count": null,
      "outputs": []
    },
    {
      "cell_type": "code",
      "metadata": {
        "colab": {
          "base_uri": "https://localhost:8080/",
          "height": 154
        },
        "id": "O9Ng2f3th4_n",
        "outputId": "1e2c99de-d93c-4c2d-ab85-4dc5bce5c1f8"
      },
      "source": [
        "df = pd.DataFrame({'value':X[:,0],'y':y})\n",
        "print(df.shape)\n",
        "df[:3]"
      ],
      "execution_count": null,
      "outputs": [
        {
          "output_type": "stream",
          "text": [
            "(10000, 2)\n"
          ],
          "name": "stdout"
        },
        {
          "output_type": "execute_result",
          "data": {
            "text/html": [
              "<div>\n",
              "<style scoped>\n",
              "    .dataframe tbody tr th:only-of-type {\n",
              "        vertical-align: middle;\n",
              "    }\n",
              "\n",
              "    .dataframe tbody tr th {\n",
              "        vertical-align: top;\n",
              "    }\n",
              "\n",
              "    .dataframe thead th {\n",
              "        text-align: right;\n",
              "    }\n",
              "</style>\n",
              "<table border=\"1\" class=\"dataframe\">\n",
              "  <thead>\n",
              "    <tr style=\"text-align: right;\">\n",
              "      <th></th>\n",
              "      <th>value</th>\n",
              "      <th>y</th>\n",
              "    </tr>\n",
              "  </thead>\n",
              "  <tbody>\n",
              "    <tr>\n",
              "      <th>0</th>\n",
              "      <td>2.273039</td>\n",
              "      <td>1.0</td>\n",
              "    </tr>\n",
              "    <tr>\n",
              "      <th>1</th>\n",
              "      <td>3.721219</td>\n",
              "      <td>1.0</td>\n",
              "    </tr>\n",
              "    <tr>\n",
              "      <th>2</th>\n",
              "      <td>2.970511</td>\n",
              "      <td>1.0</td>\n",
              "    </tr>\n",
              "  </tbody>\n",
              "</table>\n",
              "</div>"
            ],
            "text/plain": [
              "      value    y\n",
              "0  2.273039  1.0\n",
              "1  3.721219  1.0\n",
              "2  2.970511  1.0"
            ]
          },
          "metadata": {
            "tags": []
          },
          "execution_count": 35
        }
      ]
    },
    {
      "cell_type": "code",
      "metadata": {
        "colab": {
          "base_uri": "https://localhost:8080/"
        },
        "id": "bOIiQ5Swmvox",
        "outputId": "4cd039d6-22c0-4238-8796-12d5e1b038a3"
      },
      "source": [
        "df['y'].value_counts(dropna=False)"
      ],
      "execution_count": null,
      "outputs": [
        {
          "output_type": "execute_result",
          "data": {
            "text/plain": [
              "1.0    6000\n",
              "2.0    4000\n",
              "Name: y, dtype: int64"
            ]
          },
          "metadata": {
            "tags": []
          },
          "execution_count": 37
        }
      ]
    },
    {
      "cell_type": "code",
      "metadata": {
        "colab": {
          "base_uri": "https://localhost:8080/",
          "height": 265
        },
        "id": "nFadZEG7lVoW",
        "outputId": "355ddfd5-1d78-40f9-dfb0-7e6e592e0e68"
      },
      "source": [
        "fig, ax = plt.subplots(1,1,figsize=(10,4))\n",
        "\n",
        "df['value'].plot(kind='kde',label='',ax=ax)\n",
        "\n",
        "ax2 = ax.twinx()\n",
        "df['value'].plot(kind='hist',bins=50,ax=ax2,color='gray',alpha=0.5)\n",
        "\n",
        "plt.xlim(-10,20)\n",
        "# plt.ylim(0,1000)\n",
        "plt.grid()\n",
        "plt.show()"
      ],
      "execution_count": null,
      "outputs": [
        {
          "output_type": "display_data",
          "data": {
            "image/png": "[encoded data removed]",
            "text/plain": [
              "<Figure size 720x288 with 2 Axes>"
            ]
          },
          "metadata": {
            "tags": [],
            "image/png": {
              "width": 655,
              "height": 248
            },
            "needs_background": "light"
          }
        }
      ]
    },
    {
      "cell_type": "code",
      "metadata": {
        "colab": {
          "base_uri": "https://localhost:8080/",
          "height": 266
        },
        "id": "Z9vLpBialVyB",
        "outputId": "4842f84d-1005-4e67-acd4-3ae8bd537333"
      },
      "source": [
        "fig, ax = plt.subplots(1,1,figsize=(10,4))\n",
        "\n",
        "df[df['y']==1]['value'].plot(kind='kde',ax=ax, color='blue')\n",
        "df[df['y']==2]['value'].plot(kind='kde',ax=ax, color='red')\n",
        "\n",
        "ax2 = ax.twinx()\n",
        "df[df['y']==1]['value'].plot(kind='hist',bins=50,ax=ax2,color='blue',alpha=0.5,label='1')\n",
        "df[df['y']==2]['value'].plot(kind='hist',bins=50,ax=ax2,color='red',alpha=0.5,label='2')\n",
        "\n",
        "plt.legend()\n",
        "plt.xlim(-10,20)\n",
        "# plt.ylim(0,1000)\n",
        "plt.grid()\n",
        "plt.show()"
      ],
      "execution_count": null,
      "outputs": [
        {
          "output_type": "display_data",
          "data": {
            "image/png": "[encoded data removed]",
            "text/plain": [
              "<Figure size 720x288 with 2 Axes>"
            ]
          },
          "metadata": {
            "tags": [],
            "image/png": {
              "width": 655,
              "height": 249
            },
            "needs_background": "light"
          }
        }
      ]
    },
    {
      "cell_type": "code",
      "metadata": {
        "colab": {
          "base_uri": "https://localhost:8080/"
        },
        "id": "PC7-bXg1qhf0",
        "outputId": "8f7815e3-d9e2-48e5-f7f3-5c8f7e258866"
      },
      "source": [
        "bins_ = np.histogram(df['value'],bins=30)\n",
        "bins_"
      ],
      "execution_count": null,
      "outputs": [
        {
          "output_type": "execute_result",
          "data": {
            "text/plain": [
              "(array([   1,    0,    5,    8,   19,   50,  119,  301,  620,  899, 1248,\n",
              "        1376, 1252, 1023,  739,  525,  405,  357,  265,  247,  185,  134,\n",
              "          99,   52,   38,   13,    6,    9,    4,    1]),\n",
              " array([-1.48113514, -0.99396608, -0.50679701, -0.01962794,  0.46754112,\n",
              "         0.95471019,  1.44187925,  1.92904832,  2.41621739,  2.90338645,\n",
              "         3.39055552,  3.87772458,  4.36489365,  4.85206271,  5.33923178,\n",
              "         5.82640085,  6.31356991,  6.80073898,  7.28790804,  7.77507711,\n",
              "         8.26224618,  8.74941524,  9.23658431,  9.72375337, 10.21092244,\n",
              "        10.6980915 , 11.18526057, 11.67242964, 12.1595987 , 12.64676777,\n",
              "        13.13393683]))"
            ]
          },
          "metadata": {
            "tags": []
          },
          "execution_count": 55
        }
      ]
    },
    {
      "cell_type": "code",
      "metadata": {
        "colab": {
          "base_uri": "https://localhost:8080/",
          "height": 268
        },
        "id": "vXrtOB4flV63",
        "outputId": "20a4aeaf-2ae1-4ec9-943d-047cf917c60f"
      },
      "source": [
        "fig, ax = plt.subplots(1,1,figsize=(10,4))\n",
        "\n",
        "# df[df['y']==1]['value'].plot(kind='kde',ax=ax, color='blue')\n",
        "# df[df['y']==2]['value'].plot(kind='kde',ax=ax, color='red')\n",
        "\n",
        "ax2 = ax.twinx()\n",
        "# df['value'].plot(kind='hist',bins=bins_[1],ax=ax2,color='gray',alpha=0.5)\n",
        "df[df['y']==1]['value'].plot(kind='hist',bins=bins_[1],ax=ax2,color='blue',alpha=0.5,label='1')\n",
        "df[df['y']==2]['value'].plot(kind='hist',bins=bins_[1],ax=ax2,color='red',alpha=0.5,label='2')\n",
        "\n",
        "plt.legend()\n",
        "plt.xlim(-10,20)\n",
        "# plt.ylim(0,1000)\n",
        "plt.grid()\n",
        "plt.show()"
      ],
      "execution_count": null,
      "outputs": [
        {
          "output_type": "display_data",
          "data": {
            "image/png": "[encoded data removed]",
            "text/plain": [
              "<Figure size 720x288 with 2 Axes>"
            ]
          },
          "metadata": {
            "tags": [],
            "image/png": {
              "width": 641,
              "height": 252
            },
            "needs_background": "light"
          }
        }
      ]
    },
    {
      "cell_type": "code",
      "metadata": {
        "id": "wMBXTqv6qFNg"
      },
      "source": [
        ""
      ],
      "execution_count": null,
      "outputs": []
    },
    {
      "cell_type": "code",
      "metadata": {
        "colab": {
          "base_uri": "https://localhost:8080/",
          "height": 137
        },
        "id": "FHLI2wYLqFEo",
        "outputId": "0a31f707-f41d-47c1-fc61-eed51104118f"
      },
      "source": [
        "df[:3]"
      ],
      "execution_count": null,
      "outputs": [
        {
          "output_type": "execute_result",
          "data": {
            "text/html": [
              "<div>\n",
              "<style scoped>\n",
              "    .dataframe tbody tr th:only-of-type {\n",
              "        vertical-align: middle;\n",
              "    }\n",
              "\n",
              "    .dataframe tbody tr th {\n",
              "        vertical-align: top;\n",
              "    }\n",
              "\n",
              "    .dataframe thead th {\n",
              "        text-align: right;\n",
              "    }\n",
              "</style>\n",
              "<table border=\"1\" class=\"dataframe\">\n",
              "  <thead>\n",
              "    <tr style=\"text-align: right;\">\n",
              "      <th></th>\n",
              "      <th>value</th>\n",
              "      <th>y</th>\n",
              "    </tr>\n",
              "  </thead>\n",
              "  <tbody>\n",
              "    <tr>\n",
              "      <th>0</th>\n",
              "      <td>2.273039</td>\n",
              "      <td>1.0</td>\n",
              "    </tr>\n",
              "    <tr>\n",
              "      <th>1</th>\n",
              "      <td>3.721219</td>\n",
              "      <td>1.0</td>\n",
              "    </tr>\n",
              "    <tr>\n",
              "      <th>2</th>\n",
              "      <td>2.970511</td>\n",
              "      <td>1.0</td>\n",
              "    </tr>\n",
              "  </tbody>\n",
              "</table>\n",
              "</div>"
            ],
            "text/plain": [
              "      value    y\n",
              "0  2.273039  1.0\n",
              "1  3.721219  1.0\n",
              "2  2.970511  1.0"
            ]
          },
          "metadata": {
            "tags": []
          },
          "execution_count": 64
        }
      ]
    },
    {
      "cell_type": "code",
      "metadata": {
        "colab": {
          "base_uri": "https://localhost:8080/"
        },
        "id": "KoGhQhgKqE5C",
        "outputId": "dfa1994f-5cf0-4c02-fa5e-f74baa9f69ee"
      },
      "source": [
        "model = GMM(n_components=2, covariance_type='diag')\n",
        "model.fit(df[['value']])\n"
      ],
      "execution_count": null,
      "outputs": [
        {
          "output_type": "execute_result",
          "data": {
            "text/plain": [
              "GaussianMixture(covariance_type='diag', init_params='kmeans', max_iter=100,\n",
              "                means_init=None, n_components=2, n_init=1, precisions_init=None,\n",
              "                random_state=None, reg_covar=1e-06, tol=0.001, verbose=0,\n",
              "                verbose_interval=10, warm_start=False, weights_init=None)"
            ]
          },
          "metadata": {
            "tags": []
          },
          "execution_count": 67
        }
      ]
    },
    {
      "cell_type": "code",
      "metadata": {
        "colab": {
          "base_uri": "https://localhost:8080/"
        },
        "id": "kj3n5EfCr06W",
        "outputId": "eb78888a-1089-48d4-a9c3-24263c21ae3d"
      },
      "source": [
        "model.weights_"
      ],
      "execution_count": null,
      "outputs": [
        {
          "output_type": "execute_result",
          "data": {
            "text/plain": [
              "array([0.2619015, 0.7380985])"
            ]
          },
          "metadata": {
            "tags": []
          },
          "execution_count": 68
        }
      ]
    },
    {
      "cell_type": "code",
      "metadata": {
        "colab": {
          "base_uri": "https://localhost:8080/"
        },
        "id": "zVl0UVI_uMO6",
        "outputId": "92d8a6fa-676c-415a-d869-80796d15505a"
      },
      "source": [
        "model.means_"
      ],
      "execution_count": null,
      "outputs": [
        {
          "output_type": "execute_result",
          "data": {
            "text/plain": [
              "array([[6.90763475],\n",
              "       [4.05963159]])"
            ]
          },
          "metadata": {
            "tags": []
          },
          "execution_count": 80
        }
      ]
    },
    {
      "cell_type": "code",
      "metadata": {
        "colab": {
          "base_uri": "https://localhost:8080/"
        },
        "id": "A9MzvV9asGWE",
        "outputId": "c23ac3a3-bc8e-4b99-9db9-bfe8244ca4bb"
      },
      "source": [
        "model.covariances_"
      ],
      "execution_count": null,
      "outputs": [
        {
          "output_type": "execute_result",
          "data": {
            "text/plain": [
              "array([[2.8065068 ],\n",
              "       [1.23301978]])"
            ]
          },
          "metadata": {
            "tags": []
          },
          "execution_count": 81
        }
      ]
    },
    {
      "cell_type": "code",
      "metadata": {
        "colab": {
          "base_uri": "https://localhost:8080/",
          "height": 137
        },
        "id": "zYz0nwXTsaEv",
        "outputId": "6e597b83-f8dd-4f0a-c1d4-780471bc14c8"
      },
      "source": [
        "df['y_pred'] = model.predict(df[['value']])\n",
        "df['y_pred'] = df['y_pred'].map({0:2,1:1})\n",
        "df[:3]"
      ],
      "execution_count": null,
      "outputs": [
        {
          "output_type": "execute_result",
          "data": {
            "text/html": [
              "<div>\n",
              "<style scoped>\n",
              "    .dataframe tbody tr th:only-of-type {\n",
              "        vertical-align: middle;\n",
              "    }\n",
              "\n",
              "    .dataframe tbody tr th {\n",
              "        vertical-align: top;\n",
              "    }\n",
              "\n",
              "    .dataframe thead th {\n",
              "        text-align: right;\n",
              "    }\n",
              "</style>\n",
              "<table border=\"1\" class=\"dataframe\">\n",
              "  <thead>\n",
              "    <tr style=\"text-align: right;\">\n",
              "      <th></th>\n",
              "      <th>value</th>\n",
              "      <th>y</th>\n",
              "      <th>y_pred</th>\n",
              "    </tr>\n",
              "  </thead>\n",
              "  <tbody>\n",
              "    <tr>\n",
              "      <th>0</th>\n",
              "      <td>2.273039</td>\n",
              "      <td>1.0</td>\n",
              "      <td>1</td>\n",
              "    </tr>\n",
              "    <tr>\n",
              "      <th>1</th>\n",
              "      <td>3.721219</td>\n",
              "      <td>1.0</td>\n",
              "      <td>1</td>\n",
              "    </tr>\n",
              "    <tr>\n",
              "      <th>2</th>\n",
              "      <td>2.970511</td>\n",
              "      <td>1.0</td>\n",
              "      <td>1</td>\n",
              "    </tr>\n",
              "  </tbody>\n",
              "</table>\n",
              "</div>"
            ],
            "text/plain": [
              "      value    y  y_pred\n",
              "0  2.273039  1.0       1\n",
              "1  3.721219  1.0       1\n",
              "2  2.970511  1.0       1"
            ]
          },
          "metadata": {
            "tags": []
          },
          "execution_count": 82
        }
      ]
    },
    {
      "cell_type": "code",
      "metadata": {
        "colab": {
          "base_uri": "https://localhost:8080/",
          "height": 137
        },
        "id": "5pPLjZ7OsyfX",
        "outputId": "9f0a56b0-47cd-4ee9-b9c8-bc7fa9a02f8d"
      },
      "source": [
        "pd.crosstab(df['y'],df['y_pred'])"
      ],
      "execution_count": null,
      "outputs": [
        {
          "output_type": "execute_result",
          "data": {
            "text/html": [
              "<div>\n",
              "<style scoped>\n",
              "    .dataframe tbody tr th:only-of-type {\n",
              "        vertical-align: middle;\n",
              "    }\n",
              "\n",
              "    .dataframe tbody tr th {\n",
              "        vertical-align: top;\n",
              "    }\n",
              "\n",
              "    .dataframe thead th {\n",
              "        text-align: right;\n",
              "    }\n",
              "</style>\n",
              "<table border=\"1\" class=\"dataframe\">\n",
              "  <thead>\n",
              "    <tr style=\"text-align: right;\">\n",
              "      <th>y_pred</th>\n",
              "      <th>1</th>\n",
              "      <th>2</th>\n",
              "    </tr>\n",
              "    <tr>\n",
              "      <th>y</th>\n",
              "      <th></th>\n",
              "      <th></th>\n",
              "    </tr>\n",
              "  </thead>\n",
              "  <tbody>\n",
              "    <tr>\n",
              "      <th>1.0</th>\n",
              "      <td>5867</td>\n",
              "      <td>133</td>\n",
              "    </tr>\n",
              "    <tr>\n",
              "      <th>2.0</th>\n",
              "      <td>2035</td>\n",
              "      <td>1965</td>\n",
              "    </tr>\n",
              "  </tbody>\n",
              "</table>\n",
              "</div>"
            ],
            "text/plain": [
              "y_pred     1     2\n",
              "y                 \n",
              "1.0     5867   133\n",
              "2.0     2035  1965"
            ]
          },
          "metadata": {
            "tags": []
          },
          "execution_count": 83
        }
      ]
    },
    {
      "cell_type": "code",
      "metadata": {
        "colab": {
          "base_uri": "https://localhost:8080/"
        },
        "id": "c6_C22iIstCC",
        "outputId": "9aab6b81-4575-454e-d510-568617ca89ef"
      },
      "source": [
        "print(round(accuracy_score(df['y'], df['y_pred']),3))"
      ],
      "execution_count": null,
      "outputs": [
        {
          "output_type": "stream",
          "text": [
            "0.783\n"
          ],
          "name": "stdout"
        }
      ]
    },
    {
      "cell_type": "code",
      "metadata": {
        "colab": {
          "base_uri": "https://localhost:8080/",
          "height": 268
        },
        "id": "Py-WK_iwpqW_",
        "outputId": "455c7e51-48c7-449a-c5d1-ebe94034b015"
      },
      "source": [
        "fig, ax = plt.subplots(1,1,figsize=(10,4))\n",
        "\n",
        "# df[df['y']==1]['value'].plot(kind='kde',ax=ax, color='blue')\n",
        "# df[df['y']==2]['value'].plot(kind='kde',ax=ax, color='red')\n",
        "\n",
        "ax2 = ax.twinx()\n",
        "# df['value'].plot(kind='hist',bins=bins_[1],ax=ax2,color='gray',alpha=0.5)\n",
        "df[df['y_pred']==1]['value'].plot(kind='hist',bins=bins_[1],ax=ax2,color='blue',alpha=0.5,label='1')\n",
        "df[df['y_pred']==2]['value'].plot(kind='hist',bins=bins_[1],ax=ax2,color='red',alpha=0.5,label='2')\n",
        "\n",
        "plt.legend()\n",
        "plt.xlim(-10,20)\n",
        "# plt.ylim(0,1000)\n",
        "plt.grid()\n",
        "plt.show()"
      ],
      "execution_count": null,
      "outputs": [
        {
          "output_type": "display_data",
          "data": {
            "image/png": "[encoded data removed]",
            "text/plain": [
              "<Figure size 720x288 with 2 Axes>"
            ]
          },
          "metadata": {
            "tags": [],
            "image/png": {
              "width": 641,
              "height": 252
            },
            "needs_background": "light"
          }
        }
      ]
    },
    {
      "cell_type": "code",
      "metadata": {
        "id": "RppLxEljucQ4"
      },
      "source": [
        ""
      ],
      "execution_count": null,
      "outputs": []
    },
    {
      "cell_type": "code",
      "metadata": {
        "id": "eW2LZoT-pqUj"
      },
      "source": [
        ""
      ],
      "execution_count": null,
      "outputs": []
    },
    {
      "cell_type": "code",
      "metadata": {
        "id": "tSESbD0xpqI9"
      },
      "source": [
        ""
      ],
      "execution_count": null,
      "outputs": []
    },
    {
      "cell_type": "code",
      "metadata": {
        "id": "MioIEpcEpqFp"
      },
      "source": [
        ""
      ],
      "execution_count": null,
      "outputs": []
    },
    {
      "cell_type": "code",
      "metadata": {
        "id": "mr2oFh-ZpqCY"
      },
      "source": [
        ""
      ],
      "execution_count": null,
      "outputs": []
    }
  ]
}